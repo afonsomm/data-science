{
 "cells": [
  {
   "cell_type": "raw",
   "id": "151b6e39",
   "metadata": {},
   "source": [
    "---\n",
    "title: \"Building Makemore\"\n",
    "description: \"Walkthrough Andrej Karpathy's videos on 'building makemore'\"\n",
    "author: \"Afonso Matoso Magalhães\"\n",
    "date: \"08/11/2025\"\n",
    "categories:\n",
    "  - deep learning\n",
    "  - neural networks\n",
    "  - language models\n",
    "  - walkthrough\n",
    "---"
   ]
  }
 ],
 "metadata": {
  "kernelspec": {
   "display_name": "Python 3 (ipykernel)",
   "language": "python",
   "name": "python3"
  },
  "language_info": {
   "codemirror_mode": {
    "name": "ipython",
    "version": 3
   },
   "file_extension": ".py",
   "mimetype": "text/x-python",
   "name": "python",
   "nbconvert_exporter": "python",
   "pygments_lexer": "ipython3",
   "version": "3.13.5"
  }
 },
 "nbformat": 4,
 "nbformat_minor": 5
}
