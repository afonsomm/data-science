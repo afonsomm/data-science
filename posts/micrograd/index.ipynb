{
 "cells": [
  {
   "cell_type": "raw",
   "id": "464f7273",
   "metadata": {},
   "source": [
    "---\n",
    "title: \"Building Micrograd\"\n",
    "description: \"Walkthrough Andrej Karpathy's video on 'building micrograd'\"\n",
    "author: \"Afonso Matoso Magalhães\"\n",
    "date: \"08/11/2025\"\n",
    "categories:\n",
    "  - neural networks\n",
    "  - backpropagation\n",
    "  - walkthrough\n",
    "---"
   ]
  },
  {
   "cell_type": "code",
   "execution_count": 2,
   "id": "ae64b399",
   "metadata": {},
   "outputs": [],
   "source": [
    "import numpy as np\n",
    "import matplotlib.pyplot as plt"
   ]
  },
  {
   "cell_type": "code",
   "execution_count": null,
   "id": "36cec39c",
   "metadata": {},
   "outputs": [],
   "source": []
  }
 ],
 "metadata": {
  "kernelspec": {
   "display_name": "Python 3 (ipykernel)",
   "language": "python",
   "name": "python3"
  },
  "language_info": {
   "codemirror_mode": {
    "name": "ipython",
    "version": 3
   },
   "file_extension": ".py",
   "mimetype": "text/x-python",
   "name": "python",
   "nbconvert_exporter": "python",
   "pygments_lexer": "ipython3",
   "version": "3.13.5"
  }
 },
 "nbformat": 4,
 "nbformat_minor": 5
}
